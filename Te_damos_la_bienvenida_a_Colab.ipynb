{
  "cells": [
    {
      "cell_type": "markdown",
      "metadata": {
        "id": "view-in-github",
        "colab_type": "text"
      },
      "source": [
        "<a href=\"https://colab.research.google.com/github/Juan-cacho/Profundizacion2/blob/main/Te_damos_la_bienvenida_a_Colab.ipynb\" target=\"_parent\"><img src=\"https://colab.research.google.com/assets/colab-badge.svg\" alt=\"Open In Colab\"/></a>"
      ]
    },
    {
      "cell_type": "markdown",
      "source": [
        "Cargar el archivo y las paginas\n"
      ],
      "metadata": {
        "id": "jhZHytkGfVHY"
      }
    },
    {
      "cell_type": "code",
      "source": [
        "import pandas as pd\n",
        "\n",
        "excel_file = \"/content/La Tienda Online.xls\"\n",
        "df_clientes = pd.read_excel(excel_file, sheet_name='Clientes')\n",
        "df_pedidos = pd.read_excel(excel_file, sheet_name='Pedidos')\n",
        "df_productos = pd.read_excel(excel_file, sheet_name='Productos')\n",
        "df_facturas = pd.read_excel(excel_file, sheet_name='Facturas')\n"
      ],
      "metadata": {
        "id": "KLjhHuNEfaph"
      },
      "execution_count": null,
      "outputs": []
    },
    {
      "cell_type": "code",
      "source": [
        "display(df_clientes)\n",
        "display(df_pedidos)\n",
        "display(df_productos)\n",
        "display(df_facturas)"
      ],
      "metadata": {
        "id": "_9WtwqjhgqTe"
      },
      "execution_count": null,
      "outputs": []
    },
    {
      "cell_type": "markdown",
      "source": [
        "1_punto del taller"
      ],
      "metadata": {
        "id": "oNPfFZMMhcLO"
      }
    },
    {
      "cell_type": "code",
      "source": [
        "promedio_cantidad_pedida = df_pedidos['cantidad_pedida'].mean()\n",
        "display(promedio_cantidad_pedida)\n"
      ],
      "metadata": {
        "id": "fzrxiXPihfy_"
      },
      "execution_count": null,
      "outputs": []
    },
    {
      "cell_type": "code",
      "source": [
        "df_clientes_pedidos = pd.merge(df_clientes, df_pedidos, on='id_cliente')\n",
        "display(df_clientes_pedidos.head())"
      ],
      "metadata": {
        "id": "UkxYOKxiiR6c"
      },
      "execution_count": null,
      "outputs": []
    },
    {
      "cell_type": "markdown",
      "source": [
        "Filtrar y mostrar lo que es mayor al promedio"
      ],
      "metadata": {
        "id": "_O8sv-_hhqY0"
      }
    },
    {
      "cell_type": "code",
      "source": [
        "df_clientes_altas_compras = df_clientes_pedidos[df_clientes_pedidos['cantidad_pedida'] > promedio_cantidad_pedida]\n",
        "display(df_clientes_altas_compras)"
      ],
      "metadata": {
        "id": "pAKvKt31hxAQ"
      },
      "execution_count": null,
      "outputs": []
    },
    {
      "cell_type": "markdown",
      "source": [
        "2_Punto del taller\n"
      ],
      "metadata": {
        "id": "n4JUC_9JiYd7"
      }
    },
    {
      "cell_type": "code",
      "source": [
        "df_pedidos_productos = pd.merge(df_pedidos, df_productos, on='id_producto', how='inner')\n",
        "display(df_pedidos_productos.head())"
      ],
      "metadata": {
        "id": "OE-smt2lifn9"
      },
      "execution_count": null,
      "outputs": []
    },
    {
      "cell_type": "code",
      "source": [
        "df_pedidos_productos['valor_compra_item'] = df_pedidos_productos['cantidad_pedida'] * df_pedidos_productos['precio']\n",
        "display(df_pedidos_productos.head())\n"
      ],
      "metadata": {
        "id": "YJUJkgw4i65-"
      },
      "execution_count": null,
      "outputs": []
    },
    {
      "cell_type": "code",
      "source": [
        "promedio_valor_compra = df_pedidos_productos['valor_compra_item'].mean()\n",
        "print(promedio_valor_compra)"
      ],
      "metadata": {
        "id": "e-5m_YaEjFCJ"
      },
      "execution_count": null,
      "outputs": []
    },
    {
      "cell_type": "code",
      "source": [
        "df_clientes_pedidos2 = pd.merge(df_clientes, df_pedidos_productos, on='id_cliente', how='inner')\n",
        "df_clientes_altas_compras = df_clientes_pedidos2[df_clientes_pedidos2['valor_compra_item'] > promedio_valor_compra]\n",
        "display(df_clientes_altas_compras.head())"
      ],
      "metadata": {
        "id": "luIQ-Oe6jMGg"
      },
      "execution_count": null,
      "outputs": []
    },
    {
      "cell_type": "markdown",
      "source": [
        "3_Punto del taller"
      ],
      "metadata": {
        "id": "db177skjjiHQ"
      }
    },
    {
      "cell_type": "code",
      "source": [
        "df_pedidos_productos2 = pd.merge(df_pedidos, df_productos, on='id_producto', how='left')\n",
        "display(df_pedidos_productos2.head())\n"
      ],
      "metadata": {
        "id": "d_DBxOO0jkSj"
      },
      "execution_count": null,
      "outputs": []
    },
    {
      "cell_type": "code",
      "source": [
        "df_pedidos_productos2['valor_compra_item'] = df_pedidos_productos2['cantidad_pedida'] * df_pedidos_productos2['precio']\n",
        "\n",
        "df_valor_total_cliente = df_pedidos_productos2.groupby('id_cliente')['valor_compra_item'].sum().reset_index()"
      ],
      "metadata": {
        "id": "qt-thQUgj4wa"
      },
      "execution_count": 31,
      "outputs": []
    },
    {
      "cell_type": "code",
      "source": [
        "mejor_cliente_index = df_valor_total_cliente['valor_compra_item'].idxmax()\n",
        "mejor_cliente_row = df_valor_total_cliente.loc[mejor_cliente_index]\n",
        "mejor_cliente_id = mejor_cliente_row['id_cliente']\n",
        "\n",
        "df_mejor_cliente = df_clientes[df_clientes['id_cliente'] == mejor_cliente_id]\n",
        "display(df_mejor_cliente)"
      ],
      "metadata": {
        "id": "5Yg4SNeOkKz0"
      },
      "execution_count": null,
      "outputs": []
    },
    {
      "cell_type": "markdown",
      "source": [
        "4_Punto del taller"
      ],
      "metadata": {
        "id": "HUfIBkPKkZel"
      }
    },
    {
      "cell_type": "code",
      "source": [
        "df_combinado = pd.merge(df_pedidos, df_productos, on='id_producto')\n",
        "display(df_combinado.head())"
      ],
      "metadata": {
        "id": "iGrHiqiXkbnB"
      },
      "execution_count": null,
      "outputs": []
    },
    {
      "cell_type": "code",
      "source": [
        "ventas_por_producto = df_combinado.groupby('id_producto')['cantidad_pedida'].sum().reset_index()\n",
        "ventas_por_producto = ventas_por_producto.rename(columns={'cantidad_pedida': 'total_cantidad_vendida'})\n",
        "\n",
        "print(\"Total de cantidad vendida por producto:\")\n",
        "display(ventas_por_producto.head())"
      ],
      "metadata": {
        "id": "uysuXlbFkeL2"
      },
      "execution_count": null,
      "outputs": []
    },
    {
      "cell_type": "code",
      "source": [
        "producto_mas_vendido_id = ventas_por_producto.loc[ventas_por_producto['total_cantidad_vendida'].idxmax()]['id_producto']\n",
        "\n",
        "informacion_producto_mas_vendido = df_productos[df_productos['id_producto'] == producto_mas_vendido_id]\n",
        "\n",
        "print(\"Información del producto con el mejor récord de ventas:\")\n",
        "display(informacion_producto_mas_vendido)"
      ],
      "metadata": {
        "id": "18qvY1a-kvg7"
      },
      "execution_count": null,
      "outputs": []
    },
    {
      "cell_type": "markdown",
      "source": [
        "5_Punto del Taller"
      ],
      "metadata": {
        "id": "MqyS-TiElAMD"
      }
    },
    {
      "cell_type": "code",
      "source": [
        "df_facturas['valor_total'] = df_facturas['cantidad_productos'] * df_facturas['precio_unitario']\n",
        "indice_factura_max_valor = df_facturas['valor_total'].idxmax()\n",
        "factura_max_valor = df_facturas.loc[indice_factura_max_valor]\n",
        "display(factura_max_valor)"
      ],
      "metadata": {
        "id": "Rl7a65YolC13"
      },
      "execution_count": null,
      "outputs": []
    },
    {
      "cell_type": "code",
      "source": [
        "id_cliente_max_valor = factura_max_valor['id_cliente']\n",
        "display(id_cliente_max_valor)\n",
        "\n",
        "cliente_max_valor = df_clientes[df_clientes['id_cliente'] == id_cliente_max_valor]\n"
      ],
      "metadata": {
        "id": "nP_lN-X_la7c"
      },
      "execution_count": null,
      "outputs": []
    },
    {
      "cell_type": "code",
      "source": [
        "nombre_cliente_max_valor = cliente_max_valor['nombre_cliente'].iloc[0]\n",
        "apellido_cliente_max_valor = cliente_max_valor['apellido_cliente'].iloc[0]\n",
        "\n",
        "print(f\"El cliente con la factura de mayor valor es: {nombre_cliente_max_valor} {apellido_cliente_max_valor}\")"
      ],
      "metadata": {
        "id": "Do3OzvgWlcy9"
      },
      "execution_count": null,
      "outputs": []
    }
  ],
  "metadata": {
    "colab": {
      "name": "Te damos la bienvenida a Colab",
      "provenance": [],
      "include_colab_link": true
    },
    "kernelspec": {
      "display_name": "Python 3",
      "name": "python3"
    }
  },
  "nbformat": 4,
  "nbformat_minor": 0
}